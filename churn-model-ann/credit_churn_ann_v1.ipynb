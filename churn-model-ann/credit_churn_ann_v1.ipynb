{
 "cells": [
  {
   "cell_type": "code",
   "execution_count": 17,
   "metadata": {},
   "outputs": [],
   "source": [
    "import pandas as pd \n",
    "import numpy as np\n",
    "import matplotlib.pyplot as plt\n",
    "\n",
    "import tensorflow\n",
    "from tensorflow import keras\n",
    "from tensorflow.keras import Sequential \n",
    "from tensorflow.keras.layers import Dense\n"
   ]
  },
  {
   "cell_type": "code",
   "execution_count": 3,
   "metadata": {},
   "outputs": [
    {
     "data": {
      "text/html": [
       "<div>\n",
       "<style scoped>\n",
       "    .dataframe tbody tr th:only-of-type {\n",
       "        vertical-align: middle;\n",
       "    }\n",
       "\n",
       "    .dataframe tbody tr th {\n",
       "        vertical-align: top;\n",
       "    }\n",
       "\n",
       "    .dataframe thead th {\n",
       "        text-align: right;\n",
       "    }\n",
       "</style>\n",
       "<table border=\"1\" class=\"dataframe\">\n",
       "  <thead>\n",
       "    <tr style=\"text-align: right;\">\n",
       "      <th></th>\n",
       "      <th>RowNumber</th>\n",
       "      <th>CustomerId</th>\n",
       "      <th>Surname</th>\n",
       "      <th>CreditScore</th>\n",
       "      <th>Geography</th>\n",
       "      <th>Gender</th>\n",
       "      <th>Age</th>\n",
       "      <th>Tenure</th>\n",
       "      <th>Balance</th>\n",
       "      <th>NumOfProducts</th>\n",
       "      <th>HasCrCard</th>\n",
       "      <th>IsActiveMember</th>\n",
       "      <th>EstimatedSalary</th>\n",
       "      <th>Exited</th>\n",
       "    </tr>\n",
       "  </thead>\n",
       "  <tbody>\n",
       "    <tr>\n",
       "      <th>0</th>\n",
       "      <td>1</td>\n",
       "      <td>15634602</td>\n",
       "      <td>Hargrave</td>\n",
       "      <td>619</td>\n",
       "      <td>France</td>\n",
       "      <td>Female</td>\n",
       "      <td>42</td>\n",
       "      <td>2</td>\n",
       "      <td>0.00</td>\n",
       "      <td>1</td>\n",
       "      <td>1</td>\n",
       "      <td>1</td>\n",
       "      <td>101348.88</td>\n",
       "      <td>1</td>\n",
       "    </tr>\n",
       "    <tr>\n",
       "      <th>1</th>\n",
       "      <td>2</td>\n",
       "      <td>15647311</td>\n",
       "      <td>Hill</td>\n",
       "      <td>608</td>\n",
       "      <td>Spain</td>\n",
       "      <td>Female</td>\n",
       "      <td>41</td>\n",
       "      <td>1</td>\n",
       "      <td>83807.86</td>\n",
       "      <td>1</td>\n",
       "      <td>0</td>\n",
       "      <td>1</td>\n",
       "      <td>112542.58</td>\n",
       "      <td>0</td>\n",
       "    </tr>\n",
       "    <tr>\n",
       "      <th>2</th>\n",
       "      <td>3</td>\n",
       "      <td>15619304</td>\n",
       "      <td>Onio</td>\n",
       "      <td>502</td>\n",
       "      <td>France</td>\n",
       "      <td>Female</td>\n",
       "      <td>42</td>\n",
       "      <td>8</td>\n",
       "      <td>159660.80</td>\n",
       "      <td>3</td>\n",
       "      <td>1</td>\n",
       "      <td>0</td>\n",
       "      <td>113931.57</td>\n",
       "      <td>1</td>\n",
       "    </tr>\n",
       "    <tr>\n",
       "      <th>3</th>\n",
       "      <td>4</td>\n",
       "      <td>15701354</td>\n",
       "      <td>Boni</td>\n",
       "      <td>699</td>\n",
       "      <td>France</td>\n",
       "      <td>Female</td>\n",
       "      <td>39</td>\n",
       "      <td>1</td>\n",
       "      <td>0.00</td>\n",
       "      <td>2</td>\n",
       "      <td>0</td>\n",
       "      <td>0</td>\n",
       "      <td>93826.63</td>\n",
       "      <td>0</td>\n",
       "    </tr>\n",
       "    <tr>\n",
       "      <th>4</th>\n",
       "      <td>5</td>\n",
       "      <td>15737888</td>\n",
       "      <td>Mitchell</td>\n",
       "      <td>850</td>\n",
       "      <td>Spain</td>\n",
       "      <td>Female</td>\n",
       "      <td>43</td>\n",
       "      <td>2</td>\n",
       "      <td>125510.82</td>\n",
       "      <td>1</td>\n",
       "      <td>1</td>\n",
       "      <td>1</td>\n",
       "      <td>79084.10</td>\n",
       "      <td>0</td>\n",
       "    </tr>\n",
       "  </tbody>\n",
       "</table>\n",
       "</div>"
      ],
      "text/plain": [
       "   RowNumber  CustomerId   Surname  CreditScore Geography  Gender  Age  \\\n",
       "0          1    15634602  Hargrave          619    France  Female   42   \n",
       "1          2    15647311      Hill          608     Spain  Female   41   \n",
       "2          3    15619304      Onio          502    France  Female   42   \n",
       "3          4    15701354      Boni          699    France  Female   39   \n",
       "4          5    15737888  Mitchell          850     Spain  Female   43   \n",
       "\n",
       "   Tenure    Balance  NumOfProducts  HasCrCard  IsActiveMember  \\\n",
       "0       2       0.00              1          1               1   \n",
       "1       1   83807.86              1          0               1   \n",
       "2       8  159660.80              3          1               0   \n",
       "3       1       0.00              2          0               0   \n",
       "4       2  125510.82              1          1               1   \n",
       "\n",
       "   EstimatedSalary  Exited  \n",
       "0        101348.88       1  \n",
       "1        112542.58       0  \n",
       "2        113931.57       1  \n",
       "3         93826.63       0  \n",
       "4         79084.10       0  "
      ]
     },
     "execution_count": 3,
     "metadata": {},
     "output_type": "execute_result"
    }
   ],
   "source": [
    "df = pd.read_csv('Churn_Modelling.csv')\n",
    "df.head()"
   ]
  },
  {
   "cell_type": "code",
   "execution_count": 4,
   "metadata": {},
   "outputs": [],
   "source": [
    "df.drop(columns = ['RowNumber','CustomerId','Surname'],inplace=True)"
   ]
  },
  {
   "cell_type": "code",
   "execution_count": 5,
   "metadata": {},
   "outputs": [
    {
     "name": "stderr",
     "output_type": "stream",
     "text": [
      "c:\\Python\\Lib\\site-packages\\sklearn\\preprocessing\\_encoders.py:975: FutureWarning: `sparse` was renamed to `sparse_output` in version 1.2 and will be removed in 1.4. `sparse_output` is ignored unless you leave `sparse` to its default value.\n",
      "  warnings.warn(\n"
     ]
    },
    {
     "data": {
      "text/html": [
       "<div>\n",
       "<style scoped>\n",
       "    .dataframe tbody tr th:only-of-type {\n",
       "        vertical-align: middle;\n",
       "    }\n",
       "\n",
       "    .dataframe tbody tr th {\n",
       "        vertical-align: top;\n",
       "    }\n",
       "\n",
       "    .dataframe thead th {\n",
       "        text-align: right;\n",
       "    }\n",
       "</style>\n",
       "<table border=\"1\" class=\"dataframe\">\n",
       "  <thead>\n",
       "    <tr style=\"text-align: right;\">\n",
       "      <th></th>\n",
       "      <th>CreditScore</th>\n",
       "      <th>Age</th>\n",
       "      <th>Tenure</th>\n",
       "      <th>Balance</th>\n",
       "      <th>NumOfProducts</th>\n",
       "      <th>HasCrCard</th>\n",
       "      <th>IsActiveMember</th>\n",
       "      <th>EstimatedSalary</th>\n",
       "      <th>Exited</th>\n",
       "      <th>Geography_Germany</th>\n",
       "      <th>Geography_Spain</th>\n",
       "      <th>Gender_Male</th>\n",
       "    </tr>\n",
       "  </thead>\n",
       "  <tbody>\n",
       "    <tr>\n",
       "      <th>0</th>\n",
       "      <td>619</td>\n",
       "      <td>42</td>\n",
       "      <td>2</td>\n",
       "      <td>0.00</td>\n",
       "      <td>1</td>\n",
       "      <td>1</td>\n",
       "      <td>1</td>\n",
       "      <td>101348.88</td>\n",
       "      <td>1</td>\n",
       "      <td>0.0</td>\n",
       "      <td>0.0</td>\n",
       "      <td>0.0</td>\n",
       "    </tr>\n",
       "    <tr>\n",
       "      <th>1</th>\n",
       "      <td>608</td>\n",
       "      <td>41</td>\n",
       "      <td>1</td>\n",
       "      <td>83807.86</td>\n",
       "      <td>1</td>\n",
       "      <td>0</td>\n",
       "      <td>1</td>\n",
       "      <td>112542.58</td>\n",
       "      <td>0</td>\n",
       "      <td>0.0</td>\n",
       "      <td>1.0</td>\n",
       "      <td>0.0</td>\n",
       "    </tr>\n",
       "    <tr>\n",
       "      <th>2</th>\n",
       "      <td>502</td>\n",
       "      <td>42</td>\n",
       "      <td>8</td>\n",
       "      <td>159660.80</td>\n",
       "      <td>3</td>\n",
       "      <td>1</td>\n",
       "      <td>0</td>\n",
       "      <td>113931.57</td>\n",
       "      <td>1</td>\n",
       "      <td>0.0</td>\n",
       "      <td>0.0</td>\n",
       "      <td>0.0</td>\n",
       "    </tr>\n",
       "    <tr>\n",
       "      <th>3</th>\n",
       "      <td>699</td>\n",
       "      <td>39</td>\n",
       "      <td>1</td>\n",
       "      <td>0.00</td>\n",
       "      <td>2</td>\n",
       "      <td>0</td>\n",
       "      <td>0</td>\n",
       "      <td>93826.63</td>\n",
       "      <td>0</td>\n",
       "      <td>0.0</td>\n",
       "      <td>0.0</td>\n",
       "      <td>0.0</td>\n",
       "    </tr>\n",
       "    <tr>\n",
       "      <th>4</th>\n",
       "      <td>850</td>\n",
       "      <td>43</td>\n",
       "      <td>2</td>\n",
       "      <td>125510.82</td>\n",
       "      <td>1</td>\n",
       "      <td>1</td>\n",
       "      <td>1</td>\n",
       "      <td>79084.10</td>\n",
       "      <td>0</td>\n",
       "      <td>0.0</td>\n",
       "      <td>1.0</td>\n",
       "      <td>0.0</td>\n",
       "    </tr>\n",
       "  </tbody>\n",
       "</table>\n",
       "</div>"
      ],
      "text/plain": [
       "   CreditScore  Age  Tenure    Balance  NumOfProducts  HasCrCard  \\\n",
       "0          619   42       2       0.00              1          1   \n",
       "1          608   41       1   83807.86              1          0   \n",
       "2          502   42       8  159660.80              3          1   \n",
       "3          699   39       1       0.00              2          0   \n",
       "4          850   43       2  125510.82              1          1   \n",
       "\n",
       "   IsActiveMember  EstimatedSalary  Exited  Geography_Germany  \\\n",
       "0               1        101348.88       1                0.0   \n",
       "1               1        112542.58       0                0.0   \n",
       "2               0        113931.57       1                0.0   \n",
       "3               0         93826.63       0                0.0   \n",
       "4               1         79084.10       0                0.0   \n",
       "\n",
       "   Geography_Spain  Gender_Male  \n",
       "0              0.0          0.0  \n",
       "1              1.0          0.0  \n",
       "2              0.0          0.0  \n",
       "3              0.0          0.0  \n",
       "4              1.0          0.0  "
      ]
     },
     "execution_count": 5,
     "metadata": {},
     "output_type": "execute_result"
    }
   ],
   "source": [
    "from sklearn.preprocessing import OneHotEncoder\n",
    "encoder = OneHotEncoder(sparse=False, drop='first')  \n",
    "encoded_columns = encoder.fit_transform(df[['Geography','Gender']])\n",
    "\n",
    "feature_names = encoder.get_feature_names_out(['Geography', 'Gender'])\n",
    "encoded_df = pd.DataFrame(encoded_columns, columns=feature_names)\n",
    "\n",
    "df = pd.concat([df, encoded_df], axis=1)\n",
    "\n",
    "# Drop the original categorical columns\n",
    "df.drop(['Geography', 'Gender'], axis=1, inplace=True)\n",
    "df.head()\n"
   ]
  },
  {
   "cell_type": "code",
   "execution_count": 6,
   "metadata": {},
   "outputs": [
    {
     "name": "stdout",
     "output_type": "stream",
     "text": [
      "(8000, 11)\n",
      "(2000, 11)\n",
      "(8000,)\n",
      "(2000,)\n"
     ]
    }
   ],
   "source": [
    "X = df.drop(columns = [\"Exited\"])\n",
    "y = df[\"Exited\"]\n",
    "from sklearn.model_selection import train_test_split\n",
    "X_train,X_test,y_train,y_test = train_test_split(X,y,test_size=0.2,random_state=0)\n",
    "print(X_train.shape)\n",
    "print(X_test.shape)\n",
    "print(y_train.shape)\n",
    "print(y_test.shape)"
   ]
  },
  {
   "cell_type": "code",
   "execution_count": 7,
   "metadata": {},
   "outputs": [],
   "source": [
    "from sklearn.preprocessing import StandardScaler\n",
    "scaler = StandardScaler()\n",
    "\n",
    "X_train_trf = scaler.fit_transform(X_train)\n",
    "X_test_trf = scaler.transform(X_test)"
   ]
  },
  {
   "cell_type": "code",
   "execution_count": 10,
   "metadata": {},
   "outputs": [
    {
     "name": "stdout",
     "output_type": "stream",
     "text": [
      "Model: \"sequential_2\"\n",
      "_________________________________________________________________\n",
      " Layer (type)                Output Shape              Param #   \n",
      "=================================================================\n",
      " dense_4 (Dense)             (None, 11)                132       \n",
      "                                                                 \n",
      " dense_5 (Dense)             (None, 11)                132       \n",
      "                                                                 \n",
      " dense_6 (Dense)             (None, 1)                 12        \n",
      "                                                                 \n",
      "=================================================================\n",
      "Total params: 276 (1.08 KB)\n",
      "Trainable params: 276 (1.08 KB)\n",
      "Non-trainable params: 0 (0.00 Byte)\n",
      "_________________________________________________________________\n"
     ]
    }
   ],
   "source": [
    "model = Sequential()\n",
    "model.add(Dense(11, activation = \"sigmoid\", input_dim = 11))\n",
    "model.add(Dense(11, activation = \"sigmoid\"))\n",
    "model.add(Dense(1, activation = \"sigmoid\"))\n",
    "model.summary()\n"
   ]
  },
  {
   "cell_type": "code",
   "execution_count": 11,
   "metadata": {},
   "outputs": [
    {
     "name": "stdout",
     "output_type": "stream",
     "text": [
      "WARNING:tensorflow:From c:\\Python\\Lib\\site-packages\\keras\\src\\optimizers\\__init__.py:309: The name tf.train.Optimizer is deprecated. Please use tf.compat.v1.train.Optimizer instead.\n",
      "\n",
      "Epoch 1/50\n",
      "WARNING:tensorflow:From c:\\Python\\Lib\\site-packages\\keras\\src\\utils\\tf_utils.py:492: The name tf.ragged.RaggedTensorValue is deprecated. Please use tf.compat.v1.ragged.RaggedTensorValue instead.\n",
      "\n",
      "WARNING:tensorflow:From c:\\Python\\Lib\\site-packages\\keras\\src\\engine\\base_layer_utils.py:384: The name tf.executing_eagerly_outside_functions is deprecated. Please use tf.compat.v1.executing_eagerly_outside_functions instead.\n",
      "\n",
      "128/128 [==============================] - 2s 5ms/step - loss: 0.9359 - accuracy: 0.2716 - val_loss: 0.6608 - val_accuracy: 0.7056\n",
      "Epoch 2/50\n",
      "128/128 [==============================] - 0s 3ms/step - loss: 0.5774 - accuracy: 0.7758 - val_loss: 0.5251 - val_accuracy: 0.7969\n",
      "Epoch 3/50\n",
      "128/128 [==============================] - 0s 3ms/step - loss: 0.5149 - accuracy: 0.7958 - val_loss: 0.5021 - val_accuracy: 0.7969\n",
      "Epoch 4/50\n",
      "128/128 [==============================] - 0s 3ms/step - loss: 0.5043 - accuracy: 0.7958 - val_loss: 0.4979 - val_accuracy: 0.7969\n",
      "Epoch 5/50\n",
      "128/128 [==============================] - 0s 3ms/step - loss: 0.5025 - accuracy: 0.7958 - val_loss: 0.4970 - val_accuracy: 0.7969\n",
      "Epoch 6/50\n",
      "128/128 [==============================] - 1s 4ms/step - loss: 0.5021 - accuracy: 0.7958 - val_loss: 0.4965 - val_accuracy: 0.7969\n",
      "Epoch 7/50\n",
      "128/128 [==============================] - 1s 5ms/step - loss: 0.5020 - accuracy: 0.7958 - val_loss: 0.4961 - val_accuracy: 0.7969\n",
      "Epoch 8/50\n",
      "128/128 [==============================] - 1s 4ms/step - loss: 0.5017 - accuracy: 0.7958 - val_loss: 0.4959 - val_accuracy: 0.7969\n",
      "Epoch 9/50\n",
      "128/128 [==============================] - 1s 4ms/step - loss: 0.5014 - accuracy: 0.7958 - val_loss: 0.4957 - val_accuracy: 0.7969\n",
      "Epoch 10/50\n",
      "128/128 [==============================] - 1s 7ms/step - loss: 0.5011 - accuracy: 0.7958 - val_loss: 0.4954 - val_accuracy: 0.7969\n",
      "Epoch 11/50\n",
      "128/128 [==============================] - 1s 8ms/step - loss: 0.5009 - accuracy: 0.7958 - val_loss: 0.4953 - val_accuracy: 0.7969\n",
      "Epoch 12/50\n",
      "128/128 [==============================] - 1s 7ms/step - loss: 0.5007 - accuracy: 0.7958 - val_loss: 0.4950 - val_accuracy: 0.7969\n",
      "Epoch 13/50\n",
      "128/128 [==============================] - 0s 3ms/step - loss: 0.5006 - accuracy: 0.7958 - val_loss: 0.4948 - val_accuracy: 0.7969\n",
      "Epoch 14/50\n",
      "128/128 [==============================] - 1s 7ms/step - loss: 0.5004 - accuracy: 0.7958 - val_loss: 0.4948 - val_accuracy: 0.7969\n",
      "Epoch 15/50\n",
      "128/128 [==============================] - 1s 8ms/step - loss: 0.5003 - accuracy: 0.7958 - val_loss: 0.4946 - val_accuracy: 0.7969\n",
      "Epoch 16/50\n",
      "128/128 [==============================] - 0s 4ms/step - loss: 0.5001 - accuracy: 0.7958 - val_loss: 0.4945 - val_accuracy: 0.7969\n",
      "Epoch 17/50\n",
      "128/128 [==============================] - 1s 5ms/step - loss: 0.5001 - accuracy: 0.7958 - val_loss: 0.4945 - val_accuracy: 0.7969\n",
      "Epoch 18/50\n",
      "128/128 [==============================] - 1s 7ms/step - loss: 0.5000 - accuracy: 0.7958 - val_loss: 0.4944 - val_accuracy: 0.7969\n",
      "Epoch 19/50\n",
      "128/128 [==============================] - 1s 6ms/step - loss: 0.4998 - accuracy: 0.7958 - val_loss: 0.4943 - val_accuracy: 0.7969\n",
      "Epoch 20/50\n",
      "128/128 [==============================] - 0s 4ms/step - loss: 0.4998 - accuracy: 0.7958 - val_loss: 0.4948 - val_accuracy: 0.7969\n",
      "Epoch 21/50\n",
      "128/128 [==============================] - 1s 6ms/step - loss: 0.4997 - accuracy: 0.7958 - val_loss: 0.4947 - val_accuracy: 0.7969\n",
      "Epoch 22/50\n",
      "128/128 [==============================] - 1s 8ms/step - loss: 0.4996 - accuracy: 0.7958 - val_loss: 0.4948 - val_accuracy: 0.7969\n",
      "Epoch 23/50\n",
      "128/128 [==============================] - 1s 8ms/step - loss: 0.4996 - accuracy: 0.7958 - val_loss: 0.4943 - val_accuracy: 0.7969\n",
      "Epoch 24/50\n",
      "128/128 [==============================] - 1s 8ms/step - loss: 0.4994 - accuracy: 0.7958 - val_loss: 0.4945 - val_accuracy: 0.7969\n",
      "Epoch 25/50\n",
      "128/128 [==============================] - 1s 6ms/step - loss: 0.4994 - accuracy: 0.7958 - val_loss: 0.4949 - val_accuracy: 0.7969\n",
      "Epoch 26/50\n",
      "128/128 [==============================] - 0s 4ms/step - loss: 0.4994 - accuracy: 0.7958 - val_loss: 0.4946 - val_accuracy: 0.7969\n",
      "Epoch 27/50\n",
      "128/128 [==============================] - 1s 5ms/step - loss: 0.4993 - accuracy: 0.7958 - val_loss: 0.4948 - val_accuracy: 0.7969\n",
      "Epoch 28/50\n",
      "128/128 [==============================] - 0s 3ms/step - loss: 0.4994 - accuracy: 0.7958 - val_loss: 0.4948 - val_accuracy: 0.7969\n",
      "Epoch 29/50\n",
      "128/128 [==============================] - 0s 3ms/step - loss: 0.4994 - accuracy: 0.7958 - val_loss: 0.4948 - val_accuracy: 0.7969\n",
      "Epoch 30/50\n",
      "128/128 [==============================] - 0s 3ms/step - loss: 0.4991 - accuracy: 0.7958 - val_loss: 0.4950 - val_accuracy: 0.7969\n",
      "Epoch 31/50\n",
      "128/128 [==============================] - 0s 3ms/step - loss: 0.4993 - accuracy: 0.7958 - val_loss: 0.4947 - val_accuracy: 0.7969\n",
      "Epoch 32/50\n",
      "128/128 [==============================] - 0s 3ms/step - loss: 0.4991 - accuracy: 0.7958 - val_loss: 0.4950 - val_accuracy: 0.7969\n",
      "Epoch 33/50\n",
      "128/128 [==============================] - 0s 3ms/step - loss: 0.4993 - accuracy: 0.7958 - val_loss: 0.4949 - val_accuracy: 0.7969\n",
      "Epoch 34/50\n",
      "128/128 [==============================] - 0s 3ms/step - loss: 0.4992 - accuracy: 0.7958 - val_loss: 0.4948 - val_accuracy: 0.7969\n",
      "Epoch 35/50\n",
      "128/128 [==============================] - 0s 3ms/step - loss: 0.4991 - accuracy: 0.7958 - val_loss: 0.4947 - val_accuracy: 0.7969\n",
      "Epoch 36/50\n",
      "128/128 [==============================] - 0s 3ms/step - loss: 0.4989 - accuracy: 0.7958 - val_loss: 0.4952 - val_accuracy: 0.7969\n",
      "Epoch 37/50\n",
      "128/128 [==============================] - 0s 3ms/step - loss: 0.4992 - accuracy: 0.7958 - val_loss: 0.4947 - val_accuracy: 0.7969\n",
      "Epoch 38/50\n",
      "128/128 [==============================] - 0s 3ms/step - loss: 0.4992 - accuracy: 0.7958 - val_loss: 0.4947 - val_accuracy: 0.7969\n",
      "Epoch 39/50\n",
      "128/128 [==============================] - 0s 3ms/step - loss: 0.4992 - accuracy: 0.7958 - val_loss: 0.4949 - val_accuracy: 0.7969\n",
      "Epoch 40/50\n",
      "128/128 [==============================] - 0s 3ms/step - loss: 0.4991 - accuracy: 0.7958 - val_loss: 0.4948 - val_accuracy: 0.7969\n",
      "Epoch 41/50\n",
      "128/128 [==============================] - 0s 3ms/step - loss: 0.4989 - accuracy: 0.7958 - val_loss: 0.4951 - val_accuracy: 0.7969\n",
      "Epoch 42/50\n",
      "128/128 [==============================] - 0s 3ms/step - loss: 0.4992 - accuracy: 0.7958 - val_loss: 0.4948 - val_accuracy: 0.7969\n",
      "Epoch 43/50\n",
      "128/128 [==============================] - 0s 3ms/step - loss: 0.4990 - accuracy: 0.7958 - val_loss: 0.4948 - val_accuracy: 0.7969\n",
      "Epoch 44/50\n",
      "128/128 [==============================] - 0s 3ms/step - loss: 0.4990 - accuracy: 0.7958 - val_loss: 0.4948 - val_accuracy: 0.7969\n",
      "Epoch 45/50\n",
      "128/128 [==============================] - 0s 3ms/step - loss: 0.4990 - accuracy: 0.7958 - val_loss: 0.4948 - val_accuracy: 0.7969\n",
      "Epoch 46/50\n",
      "128/128 [==============================] - 0s 3ms/step - loss: 0.4990 - accuracy: 0.7958 - val_loss: 0.4948 - val_accuracy: 0.7969\n",
      "Epoch 47/50\n",
      "128/128 [==============================] - 0s 3ms/step - loss: 0.4992 - accuracy: 0.7958 - val_loss: 0.4947 - val_accuracy: 0.7969\n",
      "Epoch 48/50\n",
      "128/128 [==============================] - 0s 3ms/step - loss: 0.4989 - accuracy: 0.7958 - val_loss: 0.4949 - val_accuracy: 0.7969\n",
      "Epoch 49/50\n",
      "128/128 [==============================] - 0s 3ms/step - loss: 0.4991 - accuracy: 0.7958 - val_loss: 0.4948 - val_accuracy: 0.7969\n",
      "Epoch 50/50\n",
      "128/128 [==============================] - 0s 4ms/step - loss: 0.4989 - accuracy: 0.7958 - val_loss: 0.4948 - val_accuracy: 0.7969\n"
     ]
    }
   ],
   "source": [
    "model.compile(optimizer=\"Adam\", loss=\"binary_crossentropy\", metrics = [\"accuracy\"])\n",
    "history = model.fit(X_train,y_train,batch_size=50,epochs=50,verbose=1,validation_split=0.2)"
   ]
  },
  {
   "cell_type": "code",
   "execution_count": 14,
   "metadata": {},
   "outputs": [
    {
     "name": "stdout",
     "output_type": "stream",
     "text": [
      "63/63 [==============================] - 0s 2ms/step\n"
     ]
    },
    {
     "data": {
      "text/plain": [
       "array([0, 0, 0, ..., 0, 0, 0], dtype=int64)"
      ]
     },
     "execution_count": 14,
     "metadata": {},
     "output_type": "execute_result"
    }
   ],
   "source": [
    "y_pred = model.predict(X_test)\n",
    "y_pred = y_pred.argmax(axis=-1)\n",
    "y_pred"
   ]
  },
  {
   "cell_type": "code",
   "execution_count": 15,
   "metadata": {},
   "outputs": [
    {
     "data": {
      "text/plain": [
       "0.7975"
      ]
     },
     "execution_count": 15,
     "metadata": {},
     "output_type": "execute_result"
    }
   ],
   "source": [
    "from sklearn.metrics import accuracy_score\n",
    "accuracy_score(y_test,y_pred)"
   ]
  },
  {
   "cell_type": "code",
   "execution_count": 18,
   "metadata": {},
   "outputs": [
    {
     "data": {
      "text/plain": [
       "[<matplotlib.lines.Line2D at 0x17710cd1890>]"
      ]
     },
     "execution_count": 18,
     "metadata": {},
     "output_type": "execute_result"
    },
    {
     "data": {
      "image/png": "[encoded data removed]",
      "text/plain": [
       "<Figure size 640x480 with 1 Axes>"
      ]
     },
     "metadata": {},
     "output_type": "display_data"
    }
   ],
   "source": [
    "\n",
    "\n",
    "plt.plot(history.history['loss'])\n",
    "plt.plot(history.history['val_loss'])"
   ]
  },
  {
   "cell_type": "code",
   "execution_count": 19,
   "metadata": {},
   "outputs": [
    {
     "data": {
      "text/plain": [
       "[<matplotlib.lines.Line2D at 0x17710d79590>]"
      ]
     },
     "execution_count": 19,
     "metadata": {},
     "output_type": "execute_result"
    },
    {
     "data": {
      "image/png": "[encoded data removed]",
      "text/plain": [
       "<Figure size 640x480 with 1 Axes>"
      ]
     },
     "metadata": {},
     "output_type": "display_data"
    }
   ],
   "source": [
    "plt.plot(history.history['accuracy'])\n",
    "plt.plot(history.history['val_accuracy'])"
   ]
  },
  {
   "cell_type": "code",
   "execution_count": null,
   "metadata": {},
   "outputs": [],
   "source": []
  }
 ],
 "metadata": {
  "kernelspec": {
   "display_name": "Python 3",
   "language": "python",
   "name": "python3"
  },
  "language_info": {
   "codemirror_mode": {
    "name": "ipython",
    "version": 3
   },
   "file_extension": ".py",
   "mimetype": "text/x-python",
   "name": "python",
   "nbconvert_exporter": "python",
   "pygments_lexer": "ipython3",
   "version": "3.11.5"
  }
 },
 "nbformat": 4,
 "nbformat_minor": 2
}
